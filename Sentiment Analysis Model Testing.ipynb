{
 "cells": [
  {
   "cell_type": "code",
   "execution_count": 1,
   "metadata": {},
   "outputs": [],
   "source": [
    "import tensorflow as tf\n",
    "from transformers import AutoTokenizer\n",
    "import numpy as np\n",
    "\n",
    "tokenizer = AutoTokenizer.from_pretrained('bert-base-cased')\n",
    "model = tf.keras.models.load_model('sentiment_model_imdb')\n",
    "\n",
    "code_to_category = {\n",
    "    0: \"positive\",\n",
    "    1: \"negative\"\n",
    "}\n",
    "def pred_text(model, text, max_length = 512):\n",
    "    tokens = tokenizer.encode_plus(text, max_length = max_length, \n",
    "                               truncation = True, padding = 'max_length', \n",
    "                               add_special_tokens = True, return_token_type_ids = False, \n",
    "                               return_attention_mask = True, return_tensors = 'tf')\n",
    "    probs = model.predict({\n",
    "        'input_ids': tf.cast(tokens['input_ids'], tf.float64),\n",
    "        'attention_mask': tf.cast(tokens['attention_mask'], tf.float64)\n",
    "    })\n",
    "    \n",
    "    pred = np.argmax(probs[0])\n",
    "    \n",
    "    prediction = code_to_category[pred]\n",
    "    confidence = probs[0][pred]\n",
    "    \n",
    "    return prediction, confidence"
   ]
  },
  {
   "cell_type": "code",
   "execution_count": 2,
   "metadata": {},
   "outputs": [
    {
     "data": {
      "text/plain": [
       "('positive', 0.98516893)"
      ]
     },
     "execution_count": 2,
     "metadata": {},
     "output_type": "execute_result"
    }
   ],
   "source": [
    "text = \"This movie was amazingly brilliant.\"\n",
    "pred_text(model, text)"
   ]
  },
  {
   "cell_type": "code",
   "execution_count": 3,
   "metadata": {},
   "outputs": [
    {
     "data": {
      "text/plain": [
       "('negative', 0.75620514)"
      ]
     },
     "execution_count": 3,
     "metadata": {},
     "output_type": "execute_result"
    }
   ],
   "source": [
    "text = \"Maybe they should try to get a better cast next time.\"\n",
    "pred_text(model, text)"
   ]
  },
  {
   "cell_type": "code",
   "execution_count": null,
   "metadata": {},
   "outputs": [],
   "source": []
  }
 ],
 "metadata": {
  "kernelspec": {
   "display_name": "ML",
   "language": "python",
   "name": "ml"
  },
  "language_info": {
   "codemirror_mode": {
    "name": "ipython",
    "version": 3
   },
   "file_extension": ".py",
   "mimetype": "text/x-python",
   "name": "python",
   "nbconvert_exporter": "python",
   "pygments_lexer": "ipython3",
   "version": "3.8.5"
  }
 },
 "nbformat": 4,
 "nbformat_minor": 4
}
