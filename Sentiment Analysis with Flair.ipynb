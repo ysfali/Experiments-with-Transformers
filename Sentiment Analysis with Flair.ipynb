{
 "cells": [
  {
   "cell_type": "markdown",
   "metadata": {},
   "source": [
    "1. Initialize Model\n",
    "2. Text Tokenization\n",
    "3. Process with Model\n",
    "4. Format the Outputs"
   ]
  },
  {
   "cell_type": "code",
   "execution_count": 1,
   "metadata": {},
   "outputs": [
    {
     "name": "stdout",
     "output_type": "stream",
     "text": [
      "2021-11-16 19:53:16,650 https://nlp.informatik.hu-berlin.de/resources/models/sentiment-curated-distilbert/sentiment-en-mix-distillbert_4.pt not found in cache, downloading to C:\\Users\\myusu\\AppData\\Local\\Temp\\tmpxy_vdy9e\n"
     ]
    },
    {
     "name": "stderr",
     "output_type": "stream",
     "text": [
      "100%|█████████████████████████████████████████████████████████████████| 265512723/265512723 [05:54<00:00, 749772.86B/s]"
     ]
    },
    {
     "name": "stdout",
     "output_type": "stream",
     "text": [
      "2021-11-16 19:59:11,687 copying C:\\Users\\myusu\\AppData\\Local\\Temp\\tmpxy_vdy9e to cache at C:\\Users\\myusu\\.flair\\models\\sentiment-en-mix-distillbert_4.pt\n"
     ]
    },
    {
     "name": "stderr",
     "output_type": "stream",
     "text": [
      "\n"
     ]
    },
    {
     "name": "stdout",
     "output_type": "stream",
     "text": [
      "2021-11-16 19:59:12,060 removing temp file C:\\Users\\myusu\\AppData\\Local\\Temp\\tmpxy_vdy9e\n",
      "2021-11-16 19:59:12,113 loading file C:\\Users\\myusu\\.flair\\models\\sentiment-en-mix-distillbert_4.pt\n"
     ]
    },
    {
     "data": {
      "application/vnd.jupyter.widget-view+json": {
       "model_id": "452cc86e40974c1c8a3b70b7353ecd46",
       "version_major": 2,
       "version_minor": 0
      },
      "text/plain": [
       "HBox(children=(HTML(value='Downloading'), FloatProgress(value=0.0, max=28.0), HTML(value='')))"
      ]
     },
     "metadata": {},
     "output_type": "display_data"
    },
    {
     "name": "stdout",
     "output_type": "stream",
     "text": [
      "\n"
     ]
    },
    {
     "data": {
      "application/vnd.jupyter.widget-view+json": {
       "model_id": "a7481039d1d345db9ea1ea0ec9098581",
       "version_major": 2,
       "version_minor": 0
      },
      "text/plain": [
       "HBox(children=(HTML(value='Downloading'), FloatProgress(value=0.0, max=231508.0), HTML(value='')))"
      ]
     },
     "metadata": {},
     "output_type": "display_data"
    },
    {
     "name": "stdout",
     "output_type": "stream",
     "text": [
      "\n"
     ]
    },
    {
     "data": {
      "application/vnd.jupyter.widget-view+json": {
       "model_id": "eb8c5efc5b8b47038aa6c7ec05ede38f",
       "version_major": 2,
       "version_minor": 0
      },
      "text/plain": [
       "HBox(children=(HTML(value='Downloading'), FloatProgress(value=0.0, max=466062.0), HTML(value='')))"
      ]
     },
     "metadata": {},
     "output_type": "display_data"
    },
    {
     "name": "stdout",
     "output_type": "stream",
     "text": [
      "\n"
     ]
    },
    {
     "data": {
      "application/vnd.jupyter.widget-view+json": {
       "model_id": "1a1d07783d1945a3ac03c4de699327f6",
       "version_major": 2,
       "version_minor": 0
      },
      "text/plain": [
       "HBox(children=(HTML(value='Downloading'), FloatProgress(value=0.0, max=483.0), HTML(value='')))"
      ]
     },
     "metadata": {},
     "output_type": "display_data"
    },
    {
     "name": "stdout",
     "output_type": "stream",
     "text": [
      "\n"
     ]
    }
   ],
   "source": [
    "import flair\n",
    "\n",
    "model = flair.models.TextClassifier.load('en-sentiment')"
   ]
  },
  {
   "cell_type": "code",
   "execution_count": 3,
   "metadata": {},
   "outputs": [
    {
     "name": "stdout",
     "output_type": "stream",
     "text": [
      "Sentence: \"i like you\"   [− Tokens: 3]\n",
      "Sentence: \"i like you\"   [− Tokens: 3  − Sentence-Labels: {'label': [POSITIVE (0.9879)]}]\n",
      "0.9879384636878967\n",
      "POSITIVE\n"
     ]
    }
   ],
   "source": [
    "text = 'i like you'\n",
    "sentence = flair.data.Sentence(text)\n",
    "print(sentence)\n",
    "model.predict(sentence)\n",
    "print(sentence)\n",
    "print(sentence.get_labels()[0].score)\n",
    "print(sentence.get_labels()[0].value)"
   ]
  },
  {
   "cell_type": "code",
   "execution_count": 7,
   "metadata": {},
   "outputs": [
    {
     "name": "stdout",
     "output_type": "stream",
     "text": [
      "Sentence: \"i like how bad you are\"   [− Tokens: 6]\n",
      "Sentence: \"i like how bad you are\"   [− Tokens: 6  − Sentence-Labels: {'label': [POSITIVE (0.6859)]}]\n",
      "0.6859229803085327 <class 'float'>\n",
      "POSITIVE <class 'str'>\n"
     ]
    }
   ],
   "source": [
    "text = 'i like how bad you are'\n",
    "sentence = flair.data.Sentence(text)\n",
    "print(sentence)\n",
    "model.predict(sentence)\n",
    "print(sentence)\n",
    "print(sentence.get_labels()[0].score, type(sentence.get_labels()[0].score))\n",
    "print(sentence.get_labels()[0].value, type(sentence.get_labels()[0].value))"
   ]
  },
  {
   "cell_type": "code",
   "execution_count": null,
   "metadata": {},
   "outputs": [],
   "source": []
  }
 ],
 "metadata": {
  "kernelspec": {
   "display_name": "ML",
   "language": "python",
   "name": "ml"
  },
  "language_info": {
   "codemirror_mode": {
    "name": "ipython",
    "version": 3
   },
   "file_extension": ".py",
   "mimetype": "text/x-python",
   "name": "python",
   "nbconvert_exporter": "python",
   "pygments_lexer": "ipython3",
   "version": "3.8.5"
  }
 },
 "nbformat": 4,
 "nbformat_minor": 4
}
